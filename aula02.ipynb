{
 "cells": [
  {
   "cell_type": "markdown",
   "metadata": {},
   "source": [
    "## RESUMO AULA 02"
   ]
  },
  {
   "cell_type": "markdown",
   "metadata": {},
   "source": [
    "**Introdução:** Aborda os conceitos básicos e a relevância do Aprendizado de Máquina e da Ciência de Dados na era digital, destacando como essas tecnologias estão revolucionando diversas indústrias.\n",
    "\n",
    "**A Importância do Modelo Preditivo:** Discute em duas partes a crucialidade dos modelos preditivos em prever resultados futuros com base em dados históricos, influenciando a tomada de decisão em negócios, saúde, finanças, etc.\n",
    "\n",
    "**O que é um Modelo Preditivo?:** Um modelo preditivo é uma ferramenta matemática que, através de dados históricos, busca prever comportamentos ou resultados futuros, utilizando técnicas de Machine Learning para analisar padrões e tendências.\n",
    "\n",
    "**Como o Modelo Preditivo é Construído?:** Envolve a coleta de dados, limpeza e pré-processamento, seleção de um algoritmo adequado, treinamento do modelo com dados históricos e, por fim, teste e validação do modelo para garantir precisão.\n",
    "\n",
    "**Principais Métodos de Aprendizagem:**\n",
    "\n",
    "**Aprendizagem Baseada em Instância:** Foca em memorizar instâncias específicas e utiliza essas memórias para fazer previsões.\n",
    "**Aprendizagem Baseada em Métodos Probabilísticos:** Usa modelos estatísticos para inferir probabilidades e tomar decisões.\n",
    "**Aprendizagem Baseada em Procura:** Envolve a exploração de diferentes soluções para encontrar a mais ótima.\n",
    "**Aprendizagem Baseada em Otimização:** Centra-se na utilização de métodos de otimização para melhorar o desempenho dos modelos.\n",
    "**Aprendizagem Não Supervisionada - Clusterização:** Agrupa dados semelhantes para descobrir estruturas ou padrões subjacentes.\n",
    "**Aprendizagem com Métodos Ensemble:** Combina múltiplos modelos para melhorar a precisão e robustez das previsões.\n",
    "**Métodos Ensemble – Combinação de Preditores:** Técnica que melhora a performance preditiva ao combinar diferentes modelos, reduzindo erros e variância.\n",
    "\n",
    "**Redução de Dimensionalidade:** Processo de diminuir o número de variáveis aleatórias sob consideração, facilitando a visualização, análise e processamento dos dados.\n",
    "\n",
    "**Técnicas para Redução da Dimensionalidade:** Incluem métodos como Análise de Componentes Principais (PCA), Análise de Fatores, e Seleção de Características, que ajudam a simplificar os modelos mantendo a maior parte da informação importante.\n",
    "\n",
    "**Modelos Lógicos, Geométricos e Probabilísticos:** Refere-se a diferentes abordagens de modelagem em Machine Learning. Modelos lógicos utilizam lógica para inferir relações, modelos geométricos baseiam-se na geometria dos dados para classificação ou regressão, e modelos probabilísticos usam probabilidades para fazer previsões e inferências."
   ]
  }
 ],
 "metadata": {
  "language_info": {
   "name": "python"
  }
 },
 "nbformat": 4,
 "nbformat_minor": 2
}
