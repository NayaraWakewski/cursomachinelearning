{
 "cells": [
  {
   "cell_type": "markdown",
   "metadata": {},
   "source": [
    "# <font color='blue'>Capítulo 6 - Exercício</font>"
   ]
  },
  {
   "cell_type": "markdown",
   "metadata": {},
   "source": [
    "Neste exercício você vai praticar suas habilidades de pesquisador, fundamental para quem pretende trabalhar como Cientista de Dados. Seu trabalho será desenvolver o algoritmo KNN usando apenas linguagem Python e Numpy, sem o uso de frameworks (como Scikit-Learn). Você poderá usar o paper abaixo como referência para montar o algoritmo."
   ]
  },
  {
   "cell_type": "markdown",
   "metadata": {},
   "source": [
    "Seu problema de negócio é a classificação de plantas em 3 categorias. No dataset fornecido, cada planta possui 4 variáveis preditoras representando características da planta e uma variável representando a classe. Seu algoritmo KNN deve prever a classe de uma nova planta uma vez que as 4 características sejam fornecidas."
   ]
  },
  {
   "cell_type": "code",
   "execution_count": 12,
   "metadata": {},
   "outputs": [],
   "source": [
    "# Imports\n",
    "import numpy as np\n",
    "import pandas as pd\n",
    "from sklearn.model_selection import train_test_split"
   ]
  },
  {
   "cell_type": "code",
   "execution_count": 13,
   "metadata": {},
   "outputs": [
    {
     "data": {
      "text/html": [
       "<div>\n",
       "<style scoped>\n",
       "    .dataframe tbody tr th:only-of-type {\n",
       "        vertical-align: middle;\n",
       "    }\n",
       "\n",
       "    .dataframe tbody tr th {\n",
       "        vertical-align: top;\n",
       "    }\n",
       "\n",
       "    .dataframe thead th {\n",
       "        text-align: right;\n",
       "    }\n",
       "</style>\n",
       "<table border=\"1\" class=\"dataframe\">\n",
       "  <thead>\n",
       "    <tr style=\"text-align: right;\">\n",
       "      <th></th>\n",
       "      <th>sepal_length</th>\n",
       "      <th>sepal_width</th>\n",
       "      <th>petal_length</th>\n",
       "      <th>petal_width</th>\n",
       "      <th>classe</th>\n",
       "    </tr>\n",
       "  </thead>\n",
       "  <tbody>\n",
       "    <tr>\n",
       "      <th>0</th>\n",
       "      <td>5.1</td>\n",
       "      <td>3.5</td>\n",
       "      <td>1.4</td>\n",
       "      <td>0.2</td>\n",
       "      <td>Iris-setosa</td>\n",
       "    </tr>\n",
       "    <tr>\n",
       "      <th>1</th>\n",
       "      <td>4.9</td>\n",
       "      <td>3.0</td>\n",
       "      <td>1.4</td>\n",
       "      <td>0.2</td>\n",
       "      <td>Iris-setosa</td>\n",
       "    </tr>\n",
       "    <tr>\n",
       "      <th>2</th>\n",
       "      <td>4.7</td>\n",
       "      <td>3.2</td>\n",
       "      <td>1.3</td>\n",
       "      <td>0.2</td>\n",
       "      <td>Iris-setosa</td>\n",
       "    </tr>\n",
       "    <tr>\n",
       "      <th>3</th>\n",
       "      <td>4.6</td>\n",
       "      <td>3.1</td>\n",
       "      <td>1.5</td>\n",
       "      <td>0.2</td>\n",
       "      <td>Iris-setosa</td>\n",
       "    </tr>\n",
       "    <tr>\n",
       "      <th>4</th>\n",
       "      <td>5.0</td>\n",
       "      <td>3.6</td>\n",
       "      <td>1.4</td>\n",
       "      <td>0.2</td>\n",
       "      <td>Iris-setosa</td>\n",
       "    </tr>\n",
       "  </tbody>\n",
       "</table>\n",
       "</div>"
      ],
      "text/plain": [
       "   sepal_length  sepal_width  petal_length  petal_width       classe\n",
       "0           5.1          3.5           1.4          0.2  Iris-setosa\n",
       "1           4.9          3.0           1.4          0.2  Iris-setosa\n",
       "2           4.7          3.2           1.3          0.2  Iris-setosa\n",
       "3           4.6          3.1           1.5          0.2  Iris-setosa\n",
       "4           5.0          3.6           1.4          0.2  Iris-setosa"
      ]
     },
     "execution_count": 13,
     "metadata": {},
     "output_type": "execute_result"
    }
   ],
   "source": [
    "# Carregando o dataset\n",
    "names = ['sepal_length', 'sepal_width', 'petal_length', 'petal_width', 'classe']\n",
    "iris_data = pd.read_csv('arquivos/iris.data', names = names)\n",
    "iris_data.head()"
   ]
  },
  {
   "cell_type": "code",
   "execution_count": 14,
   "metadata": {},
   "outputs": [],
   "source": [
    "# Separando variáveis preditoras e variável target\n",
    "X = iris_data.iloc[:,:4].values\n",
    "y = iris_data.iloc[:,4]\n",
    "\n",
    "#Labels da variavel target\n",
    "mapping = {class_name: index for index, class_name in enumerate(np.unique(y))}\n",
    "y_mapped = y.map(mapping).astype(int)\n",
    "\n",
    "# Agora, 'y_mapped' contém os valores numéricos correspondentes às classes originais\n",
    "y = y_mapped"
   ]
  },
  {
   "cell_type": "code",
   "execution_count": 15,
   "metadata": {},
   "outputs": [
    {
     "name": "stdout",
     "output_type": "stream",
     "text": [
      "(105, 4) (105,)\n"
     ]
    }
   ],
   "source": [
    "# Separando os dados em conjuntos de treino e teste\n",
    "X_train, X_test, y_train, y_test = train_test_split(X, y, test_size = 0.30, random_state = 33)\n",
    "print(X_train.shape, y_train.shape)"
   ]
  },
  {
   "cell_type": "code",
   "execution_count": 19,
   "metadata": {},
   "outputs": [
    {
     "name": "stdout",
     "output_type": "stream",
     "text": [
      "<class 'pandas.core.series.Series'>\n"
     ]
    }
   ],
   "source": [
    "#Verificar o tipo.\n",
    "print(type(y_train))\n"
   ]
  },
  {
   "cell_type": "code",
   "execution_count": 20,
   "metadata": {},
   "outputs": [],
   "source": [
    "#Convertendo o array para tratar o código da previsão KM.\n",
    "y_train = y_train.values  # Se y_train for um pandas Series\n"
   ]
  },
  {
   "cell_type": "code",
   "execution_count": 21,
   "metadata": {},
   "outputs": [],
   "source": [
    "y = y_mapped.values  # Se y_mapped for um pandas Series\n"
   ]
  },
  {
   "cell_type": "code",
   "execution_count": 22,
   "metadata": {},
   "outputs": [],
   "source": [
    "# Função para calcular a distância euclidiana\n",
    "def distancia_euclidiana(att1, att2):\n",
    "    dist = 0\n",
    "    for i in range(len(att1)):\n",
    "        dist += pow((att1[i] - att2[i]),2)\n",
    "    return np.sqrt(dist)"
   ]
  },
  {
   "cell_type": "code",
   "execution_count": 23,
   "metadata": {},
   "outputs": [],
   "source": [
    "# Algoritmo KNN\n",
    "def KNN(X_test, k):\n",
    "    global X_train, y_train  # Usamos as variáveis globais para os dados de treinamento\n",
    "    predictions = []  # Para armazenar as previsões para cada ponto de teste\n",
    "    \n",
    "    # Para cada ponto no conjunto de teste\n",
    "    for test_point in X_test:\n",
    "        # Calculando a distância entre o ponto de teste e todos os pontos de treinamento\n",
    "        distances = np.array([distancia_euclidiana(test_point, x) for x in X_train])\n",
    "        \n",
    "        # Obtendo os índices dos k vizinhos mais próximos\n",
    "        k_indices = distances.argsort()[:k]\n",
    "        \n",
    "        # Obtendo as classes dos k vizinhos mais próximos\n",
    "        k_nearest_labels = [y_train[i] for i in k_indices]\n",
    "        \n",
    "        # Realizando a votação majoritária\n",
    "        majority_vote = max(set(k_nearest_labels), key=k_nearest_labels.count)\n",
    "        predictions.append(majority_vote)\n",
    "    \n",
    "    return predictions\n"
   ]
  },
  {
   "cell_type": "markdown",
   "metadata": {},
   "source": [
    "### Explicação passo a passo:\n",
    "\n",
    "- **Inicialização**: Cria uma lista vazia chamada `predictions` para armazenar as previsões para cada ponto de teste.\n",
    "\n",
    "- **Loop sobre `X_test`**: Para cada ponto de teste em `X_test`, calculamos a distância desse ponto para todos os pontos no conjunto de treinamento usando a função `distancia_euclidiana`.\n",
    "\n",
    "- **Calcular distâncias**: Utiliza a lista para calcular a distância entre o ponto de teste atual e cada ponto no conjunto de treinamento `X_train`, e armazenamos essas distâncias em um array do NumPy.\n",
    "\n",
    "- **Encontrar os k vizinhos mais próximos**: Usa `argsort()` no array de distâncias para obter os índices dos `k` vizinhos mais próximos. `argsort()` retorna os índices que ordenariam o array, e ao selecionar os primeiros `k` índices, obtemos os vizinhos mais próximos.\n",
    "\n",
    "- **Votação majoritária**: Para cada um dos `k` vizinhos mais próximos, encontramos suas classes (usando os índices para buscar em `y_train`) e realizamos uma votação majoritária para determinar a classe mais comum entre esses vizinhos. A função `max(set(k_nearest_labels), key=k_nearest_labels.count)` retorna o elemento mais frequente em `k_nearest_labels`.\n",
    "\n",
    "- **Adicionar à previsão**: Adiciona a classe votada majoritariamente à lista `predictions`.\n",
    "\n",
    "- **Retorno**: Após iterar sobre todos os pontos de teste, a função retorna a lista `predictions`, que contém a classe prevista para cada ponto de teste.\n",
    "\n"
   ]
  },
  {
   "cell_type": "code",
   "execution_count": 24,
   "metadata": {},
   "outputs": [],
   "source": [
    "# Avaliando o modelo\n",
    "y_test_pred = KNN(X_test, 5)\n",
    "y_test_prediction = np.asarray(y_test_pred)"
   ]
  },
  {
   "cell_type": "code",
   "execution_count": 25,
   "metadata": {},
   "outputs": [
    {
     "data": {
      "text/plain": [
       "95.55555555555556"
      ]
     },
     "execution_count": 25,
     "metadata": {},
     "output_type": "execute_result"
    }
   ],
   "source": [
    "# Calculando a acurácia\n",
    "acc = y_test - y_test_prediction\n",
    "err = np.count_nonzero(acc)\n",
    "acuracia = ((len(y_test) - err) / len(y_test)) * 100\n",
    "acuracia"
   ]
  },
  {
   "cell_type": "code",
   "execution_count": 26,
   "metadata": {},
   "outputs": [
    {
     "data": {
      "text/plain": [
       "[1, 0, 0, 2, 2]"
      ]
     },
     "execution_count": 26,
     "metadata": {},
     "output_type": "execute_result"
    }
   ],
   "source": [
    "# Fazendo previsões para 5 novas plantas com K igual a 3\n",
    "previsoes = KNN([[6.7,3.1,4.4,1.4],[4.6,3.2,1.4,0.2],[4.6,3.2,1.4,0.2],[6.4,3.1,5.5,1.8],[6.3,3.2,5.6,1.9]], 3)\n",
    "previsoes"
   ]
  },
  {
   "cell_type": "code",
   "execution_count": 27,
   "metadata": {},
   "outputs": [
    {
     "data": {
      "text/plain": [
       "[1, 0, 0, 2, 2]"
      ]
     },
     "execution_count": 27,
     "metadata": {},
     "output_type": "execute_result"
    }
   ],
   "source": [
    "# Fazendo previsões para 5 novas plantas com K igual a 5\n",
    "previsoes = KNN([[6.7,3.1,4.4,1.4],[4.6,3.2,1.4,0.2],[4.6,3.2,1.4,0.2],[6.4,3.1,5.5,1.8],[6.3,3.2,5.6,1.9]], 5)\n",
    "previsoes"
   ]
  },
  {
   "cell_type": "markdown",
   "metadata": {},
   "source": [
    "## RESUMO AULA 06 ##"
   ]
  },
  {
   "cell_type": "markdown",
   "metadata": {},
   "source": [
    "O algoritmo K-Nearest Neighbors (KNN) é um método simples, mas poderoso, usado em classificação e regressão. O princípio por trás do KNN é utilizar os 'k' vizinhos mais próximos de um ponto de dados para determinar a sua classificação ou valor. Vamos detalhar os aspectos fundamentais desse algoritmo e como ele pode ser implementado em Python para resolver problemas de classificação multiclasse.\n",
    "\n",
    "### **Introdução**\n",
    "KNN é baseado na ideia intuitiva de que pontos de dados semelhantes tendem a estar próximos uns dos outros. É um algoritmo \"preguiçoso\" porque não constrói explicitamente um modelo interno, mas memoriza os dados de treinamento. Sua simplicidade o torna amplamente utilizado para uma primeira abordagem em problemas de classificação e regressão.\n",
    "\n",
    "### **Conhecendo o Algoritmo KNN**\n",
    "O algoritmo KNN classifica um dado novo ponto baseando-se na maioria dos votos de seus 'k' vizinhos mais próximos. O valor de 'k' é um parâmetro crucial que influencia a qualidade da previsão e deve ser escolhido cuidadosamente para evitar overfitting ou underfitting.\n",
    "\n",
    "### **KNN e Estrutura de Células de Voronoi**\n",
    "A estrutura de células de Voronoi é uma maneira de visualizar como o espaço é dividido entre os diferentes pontos de dados no KNN. Cada célula contém pontos que são mais próximos a um determinado ponto de dados do que a qualquer outro, ilustrando a região de influência de cada vizinho.\n",
    "\n",
    "### **Como Funciona o Algoritmo KNN?**\n",
    "Para classificar um novo ponto, o KNN calcula a distância entre esse ponto e todos os pontos no conjunto de treinamento, seleciona os 'k' pontos mais próximos, e atribui a classe com base na classe mais frequente entre esses vizinhos.\n",
    "\n",
    "### **Medidas de Distância Matemática**\n",
    "A escolha da medida de distância (euclidiana, manhattan, minkowski, etc.) é crucial para o desempenho do KNN. A distância euclidiana é a mais comum, mas outras medidas podem ser mais adequadas dependendo do tipo de dados.\n",
    "\n",
    "### **Classificação KNN em Python**\n",
    "A implementação do KNN em Python pode ser realizada usando a biblioteca scikit-learn, que oferece uma implementação eficiente e fácil de usar do algoritmo. Vamos percorrer as etapas para construir um classificador KNN multiclasse:\n",
    "\n",
    "1. **Definindo Um Problema Para Classificação Multiclasse**: Escolher um conjunto de dados adequado que contém várias classes para previsão.\n",
    "   \n",
    "2. **Carregando e Explorando o Dataset**: Utilizar bibliotecas como Pandas para carregar e explorar os dados, entendendo suas características e estrutura.\n",
    "\n",
    "3. **Pré-Processamento e Normalização**: Preparar os dados para o modelo, incluindo a normalização, que é crucial para o KNN, pois a medida de distância é afetada pela escala dos dados.\n",
    "\n",
    "4. **Testando o Melhor Valor de K**: Experimentar com diferentes valores de 'k' para encontrar o que oferece o melhor equilíbrio entre overfitting e underfitting.\n",
    "\n",
    "5. **Construção e Treinamento do Modelo KNN**: Utilizar a classe `KNeighborsClassifier` do scikit-learn para construir e treinar o modelo com os dados de treinamento.\n",
    "\n",
    "6. **Previsões com Dados de Teste e Avaliação do Modelo**: Após o treinamento, fazer previsões com um conjunto de dados de teste e avaliar o desempenho do modelo usando métricas como precisão, recall e a matriz de confusão.\n",
    "\n",
    "7. **Previsões em Novos Dados com o Modelo Treinado**: Finalmente, usar o modelo treinado para fazer previsões sobre novos dados não vistos, aplicando o mesmo pré-processamento feito nos dados de treinamento.\n",
    "\n",
    "O KNN é uma ferramenta poderosa para problemas de classificação e regressão, mas sua eficácia depende da escolha correta de parâmetros e da compreensão dos dados. A implementação em Python com scikit-learn facilita o teste e a aplicação desse algoritmo em problemas reais."
   ]
  }
 ],
 "metadata": {
  "kernelspec": {
   "display_name": "exercicios",
   "language": "python",
   "name": "python3"
  },
  "language_info": {
   "codemirror_mode": {
    "name": "ipython",
    "version": 3
   },
   "file_extension": ".py",
   "mimetype": "text/x-python",
   "name": "python",
   "nbconvert_exporter": "python",
   "pygments_lexer": "ipython3",
   "version": "3.12.1"
  }
 },
 "nbformat": 4,
 "nbformat_minor": 2
}
