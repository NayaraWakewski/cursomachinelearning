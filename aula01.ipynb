{
 "cells": [
  {
   "cell_type": "markdown",
   "metadata": {},
   "source": [
    "## RESUMO AULA 01 "
   ]
  },
  {
   "cell_type": "markdown",
   "metadata": {},
   "source": [
    "**O que é Aprendizado de Máquina?** - Aprendizado de Máquina (Machine Learning, ML) é uma subárea da Inteligência Artificial (IA) que envolve o desenvolvimento de algoritmos capazes de aprender padrões e fazer previsões ou decisões baseadas em dados sem ser explicitamente programados para tal.\n",
    "\n",
    "**Por que Machine Learning Está Transformando o Mundo?** - O ML está transformando o mundo ao habilitar máquinas e sistemas a melhorar automaticamente com a experiência. Isso tem aplicações em várias indústrias, incluindo saúde, finanças, transporte e entretenimento, melhorando eficiências, personalizando experiências e abrindo novas possibilidades tecnológicas.\n",
    "\n",
    "**The Dark Side of Big Data** - O lado obscuro do Big Data refere-se aos desafios e riscos associados ao armazenamento, processamento e análise de grandes volumes de dados, incluindo questões de privacidade, segurança, viés algorítmico e a potencial perda de empregos devido à automação.\n",
    "\n",
    "**Processo de Aprendizagem** - O processo de aprendizagem em ML envolve coletar e preparar dados, escolher um modelo, treiná-lo com os dados, avaliar seu desempenho e, finalmente, ajustar e implantar o modelo para aplicações reais.\n",
    "\n",
    "**Tipos de Aprendizagem:**\n",
    "\n",
    "**Aprendizagem Supervisionada:** O modelo aprende a partir de dados rotulados, tentando prever a saída para novas entradas.\n",
    "**Aprendizagem Não Supervisionada:** O modelo lida com dados não rotulados, tentando encontrar estruturas ou padrões.\n",
    "**Aprendizagem Por Reforço (Reinforcement Learning):** O modelo aprende a tomar decisões por meio de tentativa e erro, recebendo recompensas ou penalidades.\n",
    "**Aprendizagem Supervisionada** - Classificação e Regressão:\n",
    "\n",
    "**Classificação:** Prever a qual categoria um dado pertence.\n",
    "**Regressão:** Prever um valor contínuo.\n",
    "**Aprendizagem Não-Supervisionada** - Clusterização: Agrupar dados em conjuntos com características similares sem usar etiquetas pré-definidas.\n",
    "\n",
    "**Como Selecionar o Algoritmo Ideal para Cada Problema?** - A seleção do algoritmo ideal depende de vários fatores, incluindo a natureza do problema, o tipo de dados disponíveis, o tamanho do dataset, a precisão desejada e a eficiência computacional."
   ]
  }
 ],
 "metadata": {
  "language_info": {
   "name": "python"
  }
 },
 "nbformat": 4,
 "nbformat_minor": 2
}
