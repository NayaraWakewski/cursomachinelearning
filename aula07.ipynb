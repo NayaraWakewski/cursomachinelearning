{
 "cells": [
  {
   "cell_type": "markdown",
   "metadata": {},
   "source": [
    "## EXERCICIO DE FIXAÇÃO ##"
   ]
  },
  {
   "cell_type": "markdown",
   "metadata": {},
   "source": [
    "Este é uma utilização básica de um classificador de Cancêr de mama usando o dataset do scikit-learn.\n",
    "A idéia é testar como é facil criar um classificador usando Naive-bayes"
   ]
  },
  {
   "cell_type": "code",
   "execution_count": 1,
   "metadata": {},
   "outputs": [],
   "source": [
    "from sklearn.datasets import load_breast_cancer\n",
    "from sklearn.model_selection import train_test_split\n",
    "from sklearn.naive_bayes import GaussianNB\n",
    "from sklearn.metrics import accuracy_score"
   ]
  },
  {
   "cell_type": "code",
   "execution_count": 2,
   "metadata": {},
   "outputs": [],
   "source": [
    "# Carregar o dataset\n",
    "data = load_breast_cancer()"
   ]
  },
  {
   "cell_type": "code",
   "execution_count": 3,
   "metadata": {},
   "outputs": [],
   "source": [
    "# Organizar nossos dados\n",
    "label_names = data['target_names']\n",
    "labels = data['target']\n",
    "feature_names = data['feature_names']\n",
    "features = data['data']"
   ]
  },
  {
   "cell_type": "code",
   "execution_count": 4,
   "metadata": {},
   "outputs": [
    {
     "name": "stdout",
     "output_type": "stream",
     "text": [
      "['malignant' 'benign']\n",
      "Class label =  0\n",
      "['mean radius' 'mean texture' 'mean perimeter' 'mean area'\n",
      " 'mean smoothness' 'mean compactness' 'mean concavity'\n",
      " 'mean concave points' 'mean symmetry' 'mean fractal dimension'\n",
      " 'radius error' 'texture error' 'perimeter error' 'area error'\n",
      " 'smoothness error' 'compactness error' 'concavity error'\n",
      " 'concave points error' 'symmetry error' 'fractal dimension error'\n",
      " 'worst radius' 'worst texture' 'worst perimeter' 'worst area'\n",
      " 'worst smoothness' 'worst compactness' 'worst concavity'\n",
      " 'worst concave points' 'worst symmetry' 'worst fractal dimension']\n",
      "[1.799e+01 1.038e+01 1.228e+02 1.001e+03 1.184e-01 2.776e-01 3.001e-01\n",
      " 1.471e-01 2.419e-01 7.871e-02 1.095e+00 9.053e-01 8.589e+00 1.534e+02\n",
      " 6.399e-03 4.904e-02 5.373e-02 1.587e-02 3.003e-02 6.193e-03 2.538e+01\n",
      " 1.733e+01 1.846e+02 2.019e+03 1.622e-01 6.656e-01 7.119e-01 2.654e-01\n",
      " 4.601e-01 1.189e-01]\n"
     ]
    }
   ],
   "source": [
    "# Olhando para os nossos dados\n",
    "print(label_names)\n",
    "print('Class label = ', labels[0])\n",
    "print(feature_names)\n",
    "print(features[0])"
   ]
  },
  {
   "cell_type": "code",
   "execution_count": 5,
   "metadata": {},
   "outputs": [],
   "source": [
    "# Dividir nossos dados\n",
    "train, test, train_labels, test_labels = train_test_split(features,\n",
    "                                                          labels,\n",
    "                                                          test_size=0.33,\n",
    "                                                          random_state=42)"
   ]
  },
  {
   "cell_type": "code",
   "execution_count": 6,
   "metadata": {},
   "outputs": [],
   "source": [
    "# Inicializar nosso classificador\n",
    "gnb = GaussianNB()"
   ]
  },
  {
   "cell_type": "code",
   "execution_count": 7,
   "metadata": {},
   "outputs": [],
   "source": [
    "# Treinar nosso classificador\n",
    "model = gnb.fit(train, train_labels)"
   ]
  },
  {
   "cell_type": "code",
   "execution_count": 8,
   "metadata": {},
   "outputs": [
    {
     "name": "stdout",
     "output_type": "stream",
     "text": [
      "[1 0 0 1 1 0 0 0 1 1 1 0 1 0 1 0 1 1 1 0 1 1 0 1 1 1 1 1 1 0 1 1 1 1 1 1 0\n",
      " 1 0 1 1 0 1 1 1 1 1 1 1 1 0 0 1 1 1 1 1 0 0 1 1 0 0 1 1 1 0 0 1 1 0 0 1 0\n",
      " 1 1 1 1 1 1 0 1 1 0 0 0 0 0 1 1 1 1 1 1 1 1 0 0 1 0 0 1 0 0 1 1 1 0 1 1 0\n",
      " 1 1 0 0 0 1 1 1 0 0 1 1 0 1 0 0 1 1 0 0 0 1 1 1 0 1 1 0 0 1 0 1 1 0 1 0 0\n",
      " 1 1 1 1 1 1 1 0 0 1 1 1 1 1 1 1 1 1 1 1 1 0 0 1 1 0 1 1 0 1 1 1 1 1 1 0 0\n",
      " 0 1 1]\n"
     ]
    }
   ],
   "source": [
    "# Fazer previsões\n",
    "preds = gnb.predict(test)\n",
    "print(preds)"
   ]
  },
  {
   "cell_type": "code",
   "execution_count": 13,
   "metadata": {},
   "outputs": [
    {
     "name": "stdout",
     "output_type": "stream",
     "text": [
      "0.9414893617021277\n"
     ]
    }
   ],
   "source": [
    "# Avaliar a precisão\n",
    "print(accuracy_score(test_labels, preds))\n"
   ]
  },
  {
   "cell_type": "markdown",
   "metadata": {},
   "source": [
    "## RESUMO AULA 07 ##"
   ]
  },
  {
   "cell_type": "markdown",
   "metadata": {},
   "source": [
    "O algoritmo Naive Bayes é um classificador probabilístico baseado no Teorema de Bayes, amplamente utilizado em aprendizado de máquina para a tarefa de classificação. Este algoritmo é especialmente popular devido à sua simplicidade, eficiência e a capacidade de trabalhar com altas dimensões de dados. Vamos explorar em detalhes os fundamentos e a aplicação do Naive Bayes, incluindo sua implementação em Python.\n",
    "\n",
    "### **Introdução**\n",
    "Naive Bayes faz parte de uma família de algoritmos simples de classificação probabilística baseados na aplicação do Teorema de Bayes com a suposição \"ingênua\" de independência entre as características. Apesar de sua simplicidade, Naive Bayes pode ser extremamente rápido comparado a modelos mais sofisticados e funciona bem em muitos cenários.\n",
    "\n",
    "### **Conhecendo o Naive Bayes**\n",
    "O algoritmo Naive Bayes assume que a presença de uma característica particular em uma classe é independente da presença de qualquer outra característica. Esta suposição simplifica o cálculo das probabilidades, tornando o modelo computacionalmente eficiente.\n",
    "\n",
    "### **Aplicações do Algoritmo Naive Bayes**\n",
    "Naive Bayes é frequentemente utilizado em classificação de textos, detecção de spam, análise de sentimentos e sistemas de recomendação. Sua eficiência e a capacidade de lidar com grandes volumes de dados o tornam ideal para tais aplicações.\n",
    "\n",
    "### **A Teoria da Probabilidade & Probabilidade Condicional**\n",
    "O algoritmo baseia-se na teoria da probabilidade e no conceito de probabilidade condicional, que é a probabilidade de um evento ocorrer dado que outro evento já ocorreu. \n",
    "\n",
    "### **Teorema de Bayes**\n",
    "O Teorema de Bayes é fundamental para o Naive Bayes, permitindo calcular a probabilidade de uma hipótese com base no conhecimento prévio. Ele é usado para atualizar a probabilidade de uma classe dado um conjunto de características.\n",
    "\n",
    "### **Problema da Frequência Zero**\n",
    "O problema da frequência zero ocorre quando uma categoria de dado não aparece no conjunto de treinamento, levando a uma probabilidade estimada de zero. Isso pode ser mitigado por técnicas como suavização de Laplace, que ajusta as probabilidades para evitar multiplicação por zero.\n",
    "\n",
    "### **Multinomial Naive Bayes em Python - Classificador de Notícias**\n",
    "A implementação do Naive Bayes em Python pode ser feita usando a biblioteca scikit-learn, que oferece suporte a diferentes variantes do Naive Bayes, incluindo Multinomial Naive Bayes, ideal para trabalhar com características de frequência como em classificação de textos.\n",
    "\n",
    "1. **Parte 1/2**: Inclui a preparação e o carregamento do conjunto de dados de notícias, explorando e entendendo os dados antes da modelagem.\n",
    "   \n",
    "2. **Parte 2/2**: Aborda o pré-processamento dos dados, a construção e o treinamento do modelo Multinomial Naive Bayes, seguido pela avaliação do modelo usando um conjunto de dados de teste. O modelo é avaliado com base em métricas como precisão e recall, fornecendo insights sobre seu desempenho.\n",
    "\n",
    "O Naive Bayes, apesar de suas suposições simplistas, mostra-se robusto e eficaz em uma ampla gama de problemas de classificação, especialmente em aplicações relacionadas à análise de texto. Sua implementação em Python com scikit-learn simplifica ainda mais a construção e avaliação de modelos de classificação, tornando-o acessível mesmo para aqueles com conhecimento limitado em aprendizado de máquina."
   ]
  }
 ],
 "metadata": {
  "kernelspec": {
   "display_name": "exercicios",
   "language": "python",
   "name": "python3"
  },
  "language_info": {
   "name": "python",
   "version": "3.12.1"
  }
 },
 "nbformat": 4,
 "nbformat_minor": 2
}
