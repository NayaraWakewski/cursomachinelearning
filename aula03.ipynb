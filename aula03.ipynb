{
 "cells": [
  {
   "cell_type": "markdown",
   "metadata": {},
   "source": [
    "## RESUMO AULA 03"
   ]
  },
  {
   "cell_type": "markdown",
   "metadata": {},
   "source": [
    "**Introdução & Processo de Aprendizagem** - Introdução: Introduz o conceito de Aprendizado de Máquina como um meio pelo qual sistemas são capazes de aprender e melhorar a partir de experiências, sem serem explicitamente programados para cada tarefa.\n",
    "\n",
    "**Generalização:**  Refere-se à capacidade do modelo de performar bem em novos dados, não vistos durante o treinamento, o que é o objetivo principal do aprendizado de máquina.\n",
    "\n",
    "**Representação, Avaliação e Otimização:** \n",
    "\n",
    "Representação diz respeito ao formato dos dados e ao modelo usado para aprender a partir desses dados.\n",
    "Avaliação envolve medir o quão bem um modelo faz previsões com dados novos.\n",
    "Otimização se refere ao processo de ajustar os parâmetros do modelo para melhorar seu desempenho.\n",
    "Elementos e Componentes Essenciais do Processo de Aprendizagem: Incluem os dados (características, labels), o modelo (hipóteses, algoritmos), a função de custo (para avaliar o erro) e o algoritmo de otimização (para minimizar a função de custo).\n",
    "\n",
    "**Modelo de Aprendizagem:**  Um modelo de aprendizagem é uma especificação de como os dados de entrada são transformados em previsões ou decisões.\n",
    "\n",
    "**Critério para Definir a Previsão do Modelo:**  Geralmente baseado na minimização da função de custo, que mede a diferença entre as previsões do modelo e os valores reais.\n",
    "\n",
    "**Erro de Classificação:**  Ocorre quando o modelo faz uma previsão incorreta. Isso é medido durante a avaliação para ajustar o modelo e melhorar sua precisão.\n",
    "\n",
    "**Cost Function (Função de Custo):**  É fundamental para avaliar o desempenho do modelo, quantificando o erro entre as previsões do modelo e os resultados reais. É dividida em duas partes para detalhar sua importância e como é usada.\n",
    "\n",
    "**Gradiente Descendente:**  Uma técnica de otimização usada para ajustar os parâmetros do modelo de maneira a minimizar a função de custo, encontrando o ponto de mínimo global (ou local, em casos menos ideais).\n",
    "\n",
    "**Máximo e Mínimo Local:**  Refere-se aos pontos em que a função de custo atinge seu valor mínimo local dentro de uma região, o que é relevante na otimização.\n",
    "\n",
    "**A Matemática do Gradiente Descendente em Python:**  Explica como implementar o gradiente descendente utilizando Python, abordando a teoria matemática por trás do método em três partes.\n",
    "\n",
    "**Generalização**  - O Objetivo em Aprendizagem de Máquina:**  Enfatiza a importância de modelos que generalizam bem para dados não vistos, o que é essencial para a aplicabilidade prática de ML.\n",
    "\n",
    "**Underfitting x Overfitting:** \n",
    "\n",
    "**Underfitting:**  Ocorre quando o modelo é demasiado simples para capturar a estrutura subjacente dos dados.\n",
    "**Overfitting:**  Acontece quando o modelo é tão complexo que captura ruídos nos dados de treinamento como se fossem parte do padrão a ser aprendido.\n",
    "\n",
    "**Viés e Variância:** \n",
    "\n",
    "**Viés:**  Erro devido a suposições simplistas no algoritmo de aprendizagem, que pode levar a um modelo subajustado.\n",
    "**Variância:**  Erro devido a uma complexidade excessiva do modelo, que o faz reagir a pequenas flutuações nos dados de treinamento, potencialmente levando a um modelo sobreajustado."
   ]
  }
 ],
 "metadata": {
  "language_info": {
   "name": "python"
  }
 },
 "nbformat": 4,
 "nbformat_minor": 2
}
